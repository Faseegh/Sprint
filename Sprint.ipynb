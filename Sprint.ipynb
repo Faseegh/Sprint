{
 "cells": [
  {
   "cell_type": "code",
   "execution_count": 2,
   "metadata": {},
   "outputs": [],
   "source": [
    "#Module 6 Week 4 Sprint"
   ]
  },
  {
   "cell_type": "code",
   "execution_count": 1,
   "metadata": {},
   "outputs": [],
   "source": [
    "import json\n",
    "import pymongo as pm\n",
    "import pandas as pd  "
   ]
  },
  {
   "cell_type": "code",
   "execution_count": 2,
   "metadata": {},
   "outputs": [
    {
     "name": "stdout",
     "output_type": "stream",
     "text": [
      "Collection(Database(MongoClient(host=['localhost:27017'], document_class=dict, tz_aware=False, connect=True), 'Data_Tracker'), 'DataVault')\n"
     ]
    }
   ],
   "source": [
    "client = pm.MongoClient(\"mongodb://localhost:27017/\")\n",
    "myDb = client['Data_Tracker']\n",
    "collection = myDb[\"DataVault\"]\n",
    "print(collection)"
   ]
  },
  {
   "cell_type": "code",
   "execution_count": 3,
   "metadata": {},
   "outputs": [
    {
     "name": "stdout",
     "output_type": "stream",
     "text": [
      "     ID       Product  Amount  Selling Price  Cost Price  Profit  Mark-Up %  \\\n",
      "0   Q62      Nik_Naks      93          11.67       11.51    0.16       1.39   \n",
      "1   N67        Twizza      46          24.09        9.99   14.10     141.14   \n",
      "2   H69    Peppermint      13          28.70       18.83    9.87      52.42   \n",
      "3   C70  Pepper_Steak       8          12.31        5.23    7.08     135.37   \n",
      "4   Z27          Pear      83          20.62       13.51    7.11      52.63   \n",
      "..  ...           ...     ...            ...         ...     ...        ...   \n",
      "65  B65         Chomp      79          14.14        5.91    8.23     139.26   \n",
      "66  E61       Russian      39          27.27       24.71    2.56      10.36   \n",
      "67  B20        Orange      18           7.50        5.23    2.27      43.40   \n",
      "68  R69      Milktart      15          20.72       18.98    1.74       9.17   \n",
      "69  U19     Butternut      33          19.61        6.23   13.38     214.77   \n",
      "\n",
      "      Category  \n",
      "0        CHIPS  \n",
      "1   COOLDRINKS  \n",
      "2   CHOCOLATES  \n",
      "3       PASTRY  \n",
      "4        FRUIT  \n",
      "..         ...  \n",
      "65  CHOCOLATES  \n",
      "66      PASTRY  \n",
      "67       FRUIT  \n",
      "68    CUPCAKES  \n",
      "69     VEGGIES  \n",
      "\n",
      "[70 rows x 8 columns]\n"
     ]
    }
   ],
   "source": [
    "stockData = pd.read_csv('Inventory.csv')\n",
    "print(stockData)"
   ]
  },
  {
   "cell_type": "code",
   "execution_count": 35,
   "metadata": {},
   "outputs": [
    {
     "name": "stdout",
     "output_type": "stream",
     "text": [
      "70 [{'ID': 'Q62', 'Product': 'Nik_Naks', 'Amount': 93.0, 'Selling Price': 11.67, 'Cost Price': 11.51, 'Profit': 0.16, 'Mark-Up %': 1.39, 'Category': 'CHIPS'}, {'ID': 'N67', 'Product': 'Twizza', 'Amount': 46.0, 'Selling Price': 24.09, 'Cost Price': 9.99, 'Profit': 14.1, 'Mark-Up %': 141.14, 'Category': 'COOLDRINKS'}, {'ID': 'H69', 'Product': 'Peppermint', 'Amount': 13.0, 'Selling Price': 28.7, 'Cost Price': 18.83, 'Profit': 9.87, 'Mark-Up %': 52.42, 'Category': 'CHOCOLATES'}, {'ID': 'C70', 'Product': 'Pepper_Steak', 'Amount': 8.0, 'Selling Price': 12.31, 'Cost Price': 5.23, 'Profit': 7.08, 'Mark-Up %': 135.37, 'Category': 'PASTRY'}, {'ID': 'Z27', 'Product': 'Pear', 'Amount': 83.0, 'Selling Price': 20.62, 'Cost Price': 13.51, 'Profit': 7.11, 'Mark-Up %': 52.63, 'Category': 'FRUIT'}, {'ID': 'E56', 'Product': 'ChocChip', 'Amount': 14.0, 'Selling Price': 20.97, 'Cost Price': 16.85, 'Profit': 4.12, 'Mark-Up %': 24.45, 'Category': 'CUPCAKES'}, {'ID': 'O95', 'Product': 'Cucumber', 'Amount': 12.0, 'Selling Price': 18.34, 'Cost Price': 12.31, 'Profit': 6.03, 'Mark-Up %': 48.98, 'Category': 'VEGGIES'}, {'ID': 'F43', 'Product': 'Lays', 'Amount': 86.0, 'Selling Price': 25.22, 'Cost Price': 22.14, 'Profit': 3.08, 'Mark-Up %': 13.91, 'Category': 'CHIPS'}, {'ID': 'N20', 'Product': '7_Star', 'Amount': 46.0, 'Selling Price': 26.92, 'Cost Price': 24.08, 'Profit': 2.84, 'Mark-Up %': 11.79, 'Category': 'COOLDRINKS'}, {'ID': 'T09', 'Product': '5_Star', 'Amount': 40.0, 'Selling Price': 22.78, 'Cost Price': 5.88, 'Profit': 16.9, 'Mark-Up %': 287.41, 'Category': 'CHOCOLATES'}, {'ID': 'F90', 'Product': 'Plain_Steak', 'Amount': 34.0, 'Selling Price': 2.7, 'Cost Price': 2.0, 'Profit': 0.7, 'Mark-Up %': 35.0, 'Category': 'PASTRY'}, {'ID': 'Q12', 'Product': 'Kiwi', 'Amount': 27.0, 'Selling Price': 20.25, 'Cost Price': 4.85, 'Profit': 15.4, 'Mark-Up %': 317.53, 'Category': 'FRUIT'}, {'ID': 'K77', 'Product': 'Vanilla', 'Amount': 29.0, 'Selling Price': 9.77, 'Cost Price': 5.09, 'Profit': 4.68, 'Mark-Up %': 91.94, 'Category': 'CUPCAKES'}, {'ID': 'W17', 'Product': 'Eggplant', 'Amount': 3.0, 'Selling Price': 21.35, 'Cost Price': 3.67, 'Profit': 17.68, 'Mark-Up %': 481.74, 'Category': 'VEGGIES'}, {'ID': 'V68', 'Product': 'Simba', 'Amount': 40.0, 'Selling Price': 8.93, 'Cost Price': 4.24, 'Profit': 4.69, 'Mark-Up %': 110.61, 'Category': 'CHIPS'}, {'ID': 'U39', 'Product': 'Mountain_Dew', 'Amount': 85.0, 'Selling Price': 3.46, 'Cost Price': 2.86, 'Profit': 0.6, 'Mark-Up %': 20.98, 'Category': 'COOLDRINKS'}, {'ID': 'K62', 'Product': 'Choc_Log', 'Amount': 90.0, 'Selling Price': 22.24, 'Cost Price': 10.8, 'Profit': 11.44, 'Mark-Up %': 105.93, 'Category': 'CHOCOLATES'}, {'ID': 'O74', 'Product': 'Chicken', 'Amount': 32.0, 'Selling Price': 22.21, 'Cost Price': 17.08, 'Profit': 5.13, 'Mark-Up %': 30.04, 'Category': 'PASTRY'}, {'ID': 'N64', 'Product': 'Pineapple', 'Amount': 49.0, 'Selling Price': 25.6, 'Cost Price': 15.77, 'Profit': 9.83, 'Mark-Up %': 62.33, 'Category': 'FRUIT'}, {'ID': 'V95', 'Product': 'Banana', 'Amount': 8.0, 'Selling Price': 5.06, 'Cost Price': 3.25, 'Profit': 1.81, 'Mark-Up %': 55.69, 'Category': 'CUPCAKES'}, {'ID': 'X31', 'Product': 'Potato', 'Amount': 14.0, 'Selling Price': 14.02, 'Cost Price': 11.45, 'Profit': 2.57, 'Mark-Up %': 22.45, 'Category': 'VEGGIES'}, {'ID': 'W72', 'Product': 'Fritos', 'Amount': 45.0, 'Selling Price': 15.99, 'Cost Price': 5.78, 'Profit': 10.21, 'Mark-Up %': 176.64, 'Category': 'CHIPS'}, {'ID': 'T91', 'Product': 'Score', 'Amount': 93.0, 'Selling Price': 21.79, 'Cost Price': 10.44, 'Profit': 11.35, 'Mark-Up %': 108.72, 'Category': 'COOLDRINKS'}, {'ID': 'F16', 'Product': 'Tex', 'Amount': 59.0, 'Selling Price': 19.78, 'Cost Price': 5.14, 'Profit': 14.64, 'Mark-Up %': 284.82, 'Category': 'CHOCOLATES'}, {'ID': 'P78', 'Product': 'Mutton_Curry', 'Amount': 25.0, 'Selling Price': 24.62, 'Cost Price': 5.59, 'Profit': 19.03, 'Mark-Up %': 340.43, 'Category': 'PASTRY'}, {'ID': 'O82', 'Product': 'Dates', 'Amount': 64.0, 'Selling Price': 23.64, 'Cost Price': 3.53, 'Profit': 20.11, 'Mark-Up %': 569.69, 'Category': 'FRUIT'}, {'ID': 'T27', 'Product': 'Blueberry', 'Amount': 33.0, 'Selling Price': 17.87, 'Cost Price': 3.41, 'Profit': 14.46, 'Mark-Up %': 424.05, 'Category': 'CUPCAKES'}, {'ID': 'X80', 'Product': 'Spinach', 'Amount': 36.0, 'Selling Price': 24.16, 'Cost Price': 2.54, 'Profit': 21.62, 'Mark-Up %': 851.18, 'Category': 'VEGGIES'}, {'ID': 'L92', 'Product': 'Bigga_Naks', 'Amount': 35.0, 'Selling Price': 24.78, 'Cost Price': 12.6, 'Profit': 12.18, 'Mark-Up %': 96.67, 'Category': 'CHIPS'}, {'ID': 'Z43', 'Product': 'Sprite', 'Amount': 34.0, 'Selling Price': 28.11, 'Cost Price': 7.46, 'Profit': 20.65, 'Mark-Up %': 276.81, 'Category': 'COOLDRINKS'}, {'ID': 'H57', 'Product': 'Crunchie', 'Amount': 11.0, 'Selling Price': 14.31, 'Cost Price': 13.33, 'Profit': 0.98, 'Mark-Up %': 7.35, 'Category': 'CHOCOLATES'}, {'ID': 'G15', 'Product': 'Burger_pie', 'Amount': 35.0, 'Selling Price': 5.75, 'Cost Price': 3.4, 'Profit': 2.35, 'Mark-Up %': 69.12, 'Category': 'PASTRY'}, {'ID': 'W39', 'Product': 'Grapes', 'Amount': 7.0, 'Selling Price': 26.35, 'Cost Price': 24.69, 'Profit': 1.66, 'Mark-Up %': 6.72, 'Category': 'FRUIT'}, {'ID': 'A97', 'Product': 'Red_Velvet', 'Amount': 13.0, 'Selling Price': 25.73, 'Cost Price': 7.68, 'Profit': 18.05, 'Mark-Up %': 235.03, 'Category': 'CUPCAKES'}, {'ID': 'L94', 'Product': 'Cabbage', 'Amount': 70.0, 'Selling Price': 23.44, 'Cost Price': 13.34, 'Profit': 10.1, 'Mark-Up %': 75.71, 'Category': 'VEGGIES'}, {'ID': 'C05', 'Product': 'Doritos', 'Amount': 85.0, 'Selling Price': 9.03, 'Cost Price': 5.75, 'Profit': 3.28, 'Mark-Up %': 57.04, 'Category': 'CHIPS'}, {'ID': 'I05', 'Product': 'Coke', 'Amount': 50.0, 'Selling Price': 24.54, 'Cost Price': 6.31, 'Profit': 18.23, 'Mark-Up %': 288.91, 'Category': 'COOLDRINKS'}, {'ID': 'D41', 'Product': 'Milkybar', 'Amount': 1.0, 'Selling Price': 29.49, 'Cost Price': 19.32, 'Profit': 10.17, 'Mark-Up %': 52.64, 'Category': 'CHOCOLATES'}, {'ID': 'R85', 'Product': 'Spinach_and_Feta', 'Amount': 53.0, 'Selling Price': 16.97, 'Cost Price': 12.96, 'Profit': 4.01, 'Mark-Up %': 30.94, 'Category': 'PASTRY'}, {'ID': 'N99', 'Product': 'Naartjie', 'Amount': 9.0, 'Selling Price': 10.08, 'Cost Price': 6.56, 'Profit': 3.52, 'Mark-Up %': 53.66, 'Category': 'FRUIT'}, {'ID': 'Z75', 'Product': 'Granadilla', 'Amount': 10.0, 'Selling Price': 21.56, 'Cost Price': 8.18, 'Profit': 13.38, 'Mark-Up %': 163.57, 'Category': 'CUPCAKES'}, {'ID': 'T76', 'Product': 'Brocolli', 'Amount': 68.0, 'Selling Price': 19.49, 'Cost Price': 13.93, 'Profit': 5.56, 'Mark-Up %': 39.91, 'Category': 'VEGGIES'}, {'ID': 'I49', 'Product': 'Twistas', 'Amount': 18.0, 'Selling Price': 27.79, 'Cost Price': 16.85, 'Profit': 10.94, 'Mark-Up %': 64.93, 'Category': 'CHIPS'}, {'ID': 'S14', 'Product': 'Vimto', 'Amount': 94.0, 'Selling Price': 16.51, 'Cost Price': 7.08, 'Profit': 9.43, 'Mark-Up %': 133.19, 'Category': 'COOLDRINKS'}, {'ID': 'Y52', 'Product': 'Kit_Kat', 'Amount': 37.0, 'Selling Price': 14.68, 'Cost Price': 11.27, 'Profit': 3.41, 'Mark-Up %': 30.26, 'Category': 'CHOCOLATES'}, {'ID': 'U62', 'Product': 'Chicken_Curry', 'Amount': 73.0, 'Selling Price': 24.12, 'Cost Price': 5.31, 'Profit': 18.81, 'Mark-Up %': 354.24, 'Category': 'PASTRY'}, {'ID': 'Q54', 'Product': 'Guava', 'Amount': 51.0, 'Selling Price': 25.48, 'Cost Price': 2.58, 'Profit': 22.9, 'Mark-Up %': 887.6, 'Category': 'FRUIT'}, {'ID': 'Z34', 'Product': 'Swissroll', 'Amount': 31.0, 'Selling Price': 18.33, 'Cost Price': 3.04, 'Profit': 15.29, 'Mark-Up %': 502.96, 'Category': 'CUPCAKES'}, {'ID': 'N89', 'Product': 'Squash', 'Amount': 80.0, 'Selling Price': 10.68, 'Cost Price': 3.62, 'Profit': 7.06, 'Mark-Up %': 195.03, 'Category': 'VEGGIES'}, {'ID': 'Q55', 'Product': 'Flings', 'Amount': 42.0, 'Selling Price': 15.17, 'Cost Price': 4.29, 'Profit': 10.88, 'Mark-Up %': 253.61, 'Category': 'CHIPS'}, {'ID': 'C19', 'Product': 'Lemon_Twist', 'Amount': 52.0, 'Selling Price': 23.23, 'Cost Price': 4.17, 'Profit': 19.06, 'Mark-Up %': 457.07, 'Category': 'COOLDRINKS'}, {'ID': 'D75', 'Product': 'PS', 'Amount': 39.0, 'Selling Price': 10.8, 'Cost Price': 6.91, 'Profit': 3.89, 'Mark-Up %': 56.3, 'Category': 'CHOCOLATES'}, {'ID': 'U76', 'Product': 'Steak_and_Kidney', 'Amount': 20.0, 'Selling Price': 29.93, 'Cost Price': 7.35, 'Profit': 22.58, 'Mark-Up %': 307.21, 'Category': 'PASTRY'}, {'ID': 'E28', 'Product': 'Blueberry', 'Amount': 29.0, 'Selling Price': 23.85, 'Cost Price': 17.2, 'Profit': 6.65, 'Mark-Up %': 38.66, 'Category': 'FRUIT'}, {'ID': 'S69', 'Product': 'Mud_cake', 'Amount': 44.0, 'Selling Price': 24.84, 'Cost Price': 18.37, 'Profit': 6.47, 'Mark-Up %': 35.22, 'Category': 'CUPCAKES'}, {'ID': 'T93', 'Product': 'Carrot', 'Amount': 27.0, 'Selling Price': 18.76, 'Cost Price': 6.7, 'Profit': 12.06, 'Mark-Up %': 180.0, 'Category': 'VEGGIES'}, {'ID': 'L14', 'Product': 'Cheese_Naks', 'Amount': 11.0, 'Selling Price': 11.12, 'Cost Price': 3.28, 'Profit': 7.84, 'Mark-Up %': 239.02, 'Category': 'CHIPS'}, {'ID': 'C52', 'Product': 'Fanta', 'Amount': 63.0, 'Selling Price': 20.38, 'Cost Price': 19.26, 'Profit': 1.12, 'Mark-Up %': 5.82, 'Category': 'COOLDRINKS'}, {'ID': 'D03', 'Product': 'Bar_One', 'Amount': 18.0, 'Selling Price': 27.25, 'Cost Price': 10.99, 'Profit': 16.26, 'Mark-Up %': 147.95, 'Category': 'CHOCOLATES'}, {'ID': 'C30', 'Product': 'Sausage_Roll', 'Amount': 81.0, 'Selling Price': 24.78, 'Cost Price': 23.02, 'Profit': 1.76, 'Mark-Up %': 7.65, 'Category': 'PASTRY'}, {'ID': 'E60', 'Product': 'Apple', 'Amount': 9.0, 'Selling Price': 26.29, 'Cost Price': 3.52, 'Profit': 22.77, 'Mark-Up %': 646.88, 'Category': 'FRUIT'}, {'ID': 'T24', 'Product': 'Cheesecake', 'Amount': 77.0, 'Selling Price': 15.1, 'Cost Price': 14.39, 'Profit': 0.71, 'Mark-Up %': 4.93, 'Category': 'CUPCAKES'}, {'ID': 'O64', 'Product': 'Spinach', 'Amount': 14.0, 'Selling Price': 19.37, 'Cost Price': 2.62, 'Profit': 16.75, 'Mark-Up %': 639.31, 'Category': 'VEGGIES'}, {'ID': 'S54', 'Product': 'Flannagans', 'Amount': 48.0, 'Selling Price': 20.44, 'Cost Price': 4.06, 'Profit': 16.38, 'Mark-Up %': 403.45, 'Category': 'CHIPS'}, {'ID': 'S66', 'Product': 'Monster', 'Amount': 67.0, 'Selling Price': 6.5, 'Cost Price': 3.1, 'Profit': 3.4, 'Mark-Up %': 109.68, 'Category': 'COOLDRINKS'}, {'ID': 'B65', 'Product': 'Chomp', 'Amount': 79.0, 'Selling Price': 14.14, 'Cost Price': 5.91, 'Profit': 8.23, 'Mark-Up %': 139.26, 'Category': 'CHOCOLATES'}, {'ID': 'E61', 'Product': 'Russian', 'Amount': 39.0, 'Selling Price': 27.27, 'Cost Price': 24.71, 'Profit': 2.56, 'Mark-Up %': 10.36, 'Category': 'PASTRY'}, {'ID': 'B20', 'Product': 'Orange', 'Amount': 18.0, 'Selling Price': 7.5, 'Cost Price': 5.23, 'Profit': 2.27, 'Mark-Up %': 43.4, 'Category': 'FRUIT'}, {'ID': 'R69', 'Product': 'Milktart', 'Amount': 15.0, 'Selling Price': 20.72, 'Cost Price': 18.98, 'Profit': 1.74, 'Mark-Up %': 9.17, 'Category': 'CUPCAKES'}, {'ID': 'U19', 'Product': 'Butternut', 'Amount': 33.0, 'Selling Price': 19.61, 'Cost Price': 6.23, 'Profit': 13.38, 'Mark-Up %': 214.77, 'Category': 'VEGGIES'}]\n"
     ]
    },
    {
     "name": "stderr",
     "output_type": "stream",
     "text": [
      "C:\\Users\\Faseegh\\Anaconda3\\lib\\site-packages\\ipykernel_launcher.py:8: FutureWarning: get_value is deprecated and will be removed in a future release. Please use .at[] or .iat[] accessors instead\n",
      "  \n"
     ]
    }
   ],
   "source": [
    "mongoData = []\n",
    "n=1\n",
    "col =stockData.columns\n",
    "for i in range(len(stockData)):\n",
    "    row = stockData.iloc[i:n,:]\n",
    "    template = {}\n",
    "    for c in col:\n",
    "        value = row.get_value(index=i,col=c)\n",
    "        try:\n",
    "            value = float(value)\n",
    "        except:\n",
    "            x=0\n",
    "        template[c]= value\n",
    "    mongoData.append(template)\n",
    "    n+=1\n",
    "\n",
    "print(len(mongoData),mongoData)"
   ]
  },
  {
   "cell_type": "code",
   "execution_count": 36,
   "metadata": {},
   "outputs": [
    {
     "name": "stdout",
     "output_type": "stream",
     "text": [
      "{'ID': 'Q62', 'Product': 'Nik_Naks', 'Amount': 93.0, 'Selling Price': 11.67, 'Cost Price': 11.51, 'Profit': 0.16, 'Mark-Up %': 1.39, 'Category': 'CHIPS'} <pymongo.results.InsertOneResult object at 0x000001F3F3DA2508> \n",
      "\n",
      "{'ID': 'N67', 'Product': 'Twizza', 'Amount': 46.0, 'Selling Price': 24.09, 'Cost Price': 9.99, 'Profit': 14.1, 'Mark-Up %': 141.14, 'Category': 'COOLDRINKS'} <pymongo.results.InsertOneResult object at 0x000001F3F3DA2508> \n",
      "\n",
      "{'ID': 'H69', 'Product': 'Peppermint', 'Amount': 13.0, 'Selling Price': 28.7, 'Cost Price': 18.83, 'Profit': 9.87, 'Mark-Up %': 52.42, 'Category': 'CHOCOLATES'} <pymongo.results.InsertOneResult object at 0x000001F3F3DA2508> \n",
      "\n",
      "{'ID': 'C70', 'Product': 'Pepper_Steak', 'Amount': 8.0, 'Selling Price': 12.31, 'Cost Price': 5.23, 'Profit': 7.08, 'Mark-Up %': 135.37, 'Category': 'PASTRY'} <pymongo.results.InsertOneResult object at 0x000001F3F3DA2508> \n",
      "\n",
      "{'ID': 'Z27', 'Product': 'Pear', 'Amount': 83.0, 'Selling Price': 20.62, 'Cost Price': 13.51, 'Profit': 7.11, 'Mark-Up %': 52.63, 'Category': 'FRUIT'} <pymongo.results.InsertOneResult object at 0x000001F3F3DA2508> \n",
      "\n",
      "{'ID': 'E56', 'Product': 'ChocChip', 'Amount': 14.0, 'Selling Price': 20.97, 'Cost Price': 16.85, 'Profit': 4.12, 'Mark-Up %': 24.45, 'Category': 'CUPCAKES'} <pymongo.results.InsertOneResult object at 0x000001F3F3DA2508> \n",
      "\n",
      "{'ID': 'O95', 'Product': 'Cucumber', 'Amount': 12.0, 'Selling Price': 18.34, 'Cost Price': 12.31, 'Profit': 6.03, 'Mark-Up %': 48.98, 'Category': 'VEGGIES'} <pymongo.results.InsertOneResult object at 0x000001F3F3DA2508> \n",
      "\n",
      "{'ID': 'F43', 'Product': 'Lays', 'Amount': 86.0, 'Selling Price': 25.22, 'Cost Price': 22.14, 'Profit': 3.08, 'Mark-Up %': 13.91, 'Category': 'CHIPS'} <pymongo.results.InsertOneResult object at 0x000001F3F3DA2508> \n",
      "\n",
      "{'ID': 'N20', 'Product': '7_Star', 'Amount': 46.0, 'Selling Price': 26.92, 'Cost Price': 24.08, 'Profit': 2.84, 'Mark-Up %': 11.79, 'Category': 'COOLDRINKS'} <pymongo.results.InsertOneResult object at 0x000001F3F3DA2508> \n",
      "\n",
      "{'ID': 'T09', 'Product': '5_Star', 'Amount': 40.0, 'Selling Price': 22.78, 'Cost Price': 5.88, 'Profit': 16.9, 'Mark-Up %': 287.41, 'Category': 'CHOCOLATES'} <pymongo.results.InsertOneResult object at 0x000001F3F3DA2508> \n",
      "\n",
      "{'ID': 'F90', 'Product': 'Plain_Steak', 'Amount': 34.0, 'Selling Price': 2.7, 'Cost Price': 2.0, 'Profit': 0.7, 'Mark-Up %': 35.0, 'Category': 'PASTRY'} <pymongo.results.InsertOneResult object at 0x000001F3F3DA2508> \n",
      "\n",
      "{'ID': 'Q12', 'Product': 'Kiwi', 'Amount': 27.0, 'Selling Price': 20.25, 'Cost Price': 4.85, 'Profit': 15.4, 'Mark-Up %': 317.53, 'Category': 'FRUIT'} <pymongo.results.InsertOneResult object at 0x000001F3F3DA2508> \n",
      "\n",
      "{'ID': 'K77', 'Product': 'Vanilla', 'Amount': 29.0, 'Selling Price': 9.77, 'Cost Price': 5.09, 'Profit': 4.68, 'Mark-Up %': 91.94, 'Category': 'CUPCAKES'} <pymongo.results.InsertOneResult object at 0x000001F3F3DA2508> \n",
      "\n",
      "{'ID': 'W17', 'Product': 'Eggplant', 'Amount': 3.0, 'Selling Price': 21.35, 'Cost Price': 3.67, 'Profit': 17.68, 'Mark-Up %': 481.74, 'Category': 'VEGGIES'} <pymongo.results.InsertOneResult object at 0x000001F3F3DA2508> \n",
      "\n",
      "{'ID': 'V68', 'Product': 'Simba', 'Amount': 40.0, 'Selling Price': 8.93, 'Cost Price': 4.24, 'Profit': 4.69, 'Mark-Up %': 110.61, 'Category': 'CHIPS'} <pymongo.results.InsertOneResult object at 0x000001F3F3DA2508> \n",
      "\n",
      "{'ID': 'U39', 'Product': 'Mountain_Dew', 'Amount': 85.0, 'Selling Price': 3.46, 'Cost Price': 2.86, 'Profit': 0.6, 'Mark-Up %': 20.98, 'Category': 'COOLDRINKS'} <pymongo.results.InsertOneResult object at 0x000001F3F3DA2508> \n",
      "\n",
      "{'ID': 'K62', 'Product': 'Choc_Log', 'Amount': 90.0, 'Selling Price': 22.24, 'Cost Price': 10.8, 'Profit': 11.44, 'Mark-Up %': 105.93, 'Category': 'CHOCOLATES'} <pymongo.results.InsertOneResult object at 0x000001F3F3DA2508> \n",
      "\n",
      "{'ID': 'O74', 'Product': 'Chicken', 'Amount': 32.0, 'Selling Price': 22.21, 'Cost Price': 17.08, 'Profit': 5.13, 'Mark-Up %': 30.04, 'Category': 'PASTRY'} <pymongo.results.InsertOneResult object at 0x000001F3F3DA2508> \n",
      "\n",
      "{'ID': 'N64', 'Product': 'Pineapple', 'Amount': 49.0, 'Selling Price': 25.6, 'Cost Price': 15.77, 'Profit': 9.83, 'Mark-Up %': 62.33, 'Category': 'FRUIT'} <pymongo.results.InsertOneResult object at 0x000001F3F3DA2508> \n",
      "\n",
      "{'ID': 'V95', 'Product': 'Banana', 'Amount': 8.0, 'Selling Price': 5.06, 'Cost Price': 3.25, 'Profit': 1.81, 'Mark-Up %': 55.69, 'Category': 'CUPCAKES'} <pymongo.results.InsertOneResult object at 0x000001F3F3DA2508> \n",
      "\n",
      "{'ID': 'X31', 'Product': 'Potato', 'Amount': 14.0, 'Selling Price': 14.02, 'Cost Price': 11.45, 'Profit': 2.57, 'Mark-Up %': 22.45, 'Category': 'VEGGIES'} <pymongo.results.InsertOneResult object at 0x000001F3F3DA2508> \n",
      "\n",
      "{'ID': 'W72', 'Product': 'Fritos', 'Amount': 45.0, 'Selling Price': 15.99, 'Cost Price': 5.78, 'Profit': 10.21, 'Mark-Up %': 176.64, 'Category': 'CHIPS'} <pymongo.results.InsertOneResult object at 0x000001F3F3DA2508> \n",
      "\n",
      "{'ID': 'T91', 'Product': 'Score', 'Amount': 93.0, 'Selling Price': 21.79, 'Cost Price': 10.44, 'Profit': 11.35, 'Mark-Up %': 108.72, 'Category': 'COOLDRINKS'} <pymongo.results.InsertOneResult object at 0x000001F3F3DA2508> \n",
      "\n",
      "{'ID': 'F16', 'Product': 'Tex', 'Amount': 59.0, 'Selling Price': 19.78, 'Cost Price': 5.14, 'Profit': 14.64, 'Mark-Up %': 284.82, 'Category': 'CHOCOLATES'} <pymongo.results.InsertOneResult object at 0x000001F3F3DA2508> \n",
      "\n",
      "{'ID': 'P78', 'Product': 'Mutton_Curry', 'Amount': 25.0, 'Selling Price': 24.62, 'Cost Price': 5.59, 'Profit': 19.03, 'Mark-Up %': 340.43, 'Category': 'PASTRY'} <pymongo.results.InsertOneResult object at 0x000001F3F3DA2508> \n",
      "\n",
      "{'ID': 'O82', 'Product': 'Dates', 'Amount': 64.0, 'Selling Price': 23.64, 'Cost Price': 3.53, 'Profit': 20.11, 'Mark-Up %': 569.69, 'Category': 'FRUIT'} <pymongo.results.InsertOneResult object at 0x000001F3F3DA2508> \n",
      "\n",
      "{'ID': 'T27', 'Product': 'Blueberry', 'Amount': 33.0, 'Selling Price': 17.87, 'Cost Price': 3.41, 'Profit': 14.46, 'Mark-Up %': 424.05, 'Category': 'CUPCAKES'} <pymongo.results.InsertOneResult object at 0x000001F3F3DA2508> \n",
      "\n",
      "{'ID': 'X80', 'Product': 'Spinach', 'Amount': 36.0, 'Selling Price': 24.16, 'Cost Price': 2.54, 'Profit': 21.62, 'Mark-Up %': 851.18, 'Category': 'VEGGIES'} <pymongo.results.InsertOneResult object at 0x000001F3F3DA2508> \n",
      "\n",
      "{'ID': 'L92', 'Product': 'Bigga_Naks', 'Amount': 35.0, 'Selling Price': 24.78, 'Cost Price': 12.6, 'Profit': 12.18, 'Mark-Up %': 96.67, 'Category': 'CHIPS'} <pymongo.results.InsertOneResult object at 0x000001F3F3DA2508> \n",
      "\n",
      "{'ID': 'Z43', 'Product': 'Sprite', 'Amount': 34.0, 'Selling Price': 28.11, 'Cost Price': 7.46, 'Profit': 20.65, 'Mark-Up %': 276.81, 'Category': 'COOLDRINKS'} <pymongo.results.InsertOneResult object at 0x000001F3F3DA2508> \n",
      "\n",
      "{'ID': 'H57', 'Product': 'Crunchie', 'Amount': 11.0, 'Selling Price': 14.31, 'Cost Price': 13.33, 'Profit': 0.98, 'Mark-Up %': 7.35, 'Category': 'CHOCOLATES'} <pymongo.results.InsertOneResult object at 0x000001F3F3DA2508> \n",
      "\n",
      "{'ID': 'G15', 'Product': 'Burger_pie', 'Amount': 35.0, 'Selling Price': 5.75, 'Cost Price': 3.4, 'Profit': 2.35, 'Mark-Up %': 69.12, 'Category': 'PASTRY'} <pymongo.results.InsertOneResult object at 0x000001F3F3DA2508> \n",
      "\n",
      "{'ID': 'W39', 'Product': 'Grapes', 'Amount': 7.0, 'Selling Price': 26.35, 'Cost Price': 24.69, 'Profit': 1.66, 'Mark-Up %': 6.72, 'Category': 'FRUIT'} <pymongo.results.InsertOneResult object at 0x000001F3F3DA2508> \n",
      "\n",
      "{'ID': 'A97', 'Product': 'Red_Velvet', 'Amount': 13.0, 'Selling Price': 25.73, 'Cost Price': 7.68, 'Profit': 18.05, 'Mark-Up %': 235.03, 'Category': 'CUPCAKES'} <pymongo.results.InsertOneResult object at 0x000001F3F3DA2508> \n",
      "\n",
      "{'ID': 'L94', 'Product': 'Cabbage', 'Amount': 70.0, 'Selling Price': 23.44, 'Cost Price': 13.34, 'Profit': 10.1, 'Mark-Up %': 75.71, 'Category': 'VEGGIES'} <pymongo.results.InsertOneResult object at 0x000001F3F3DA2508> \n",
      "\n",
      "{'ID': 'C05', 'Product': 'Doritos', 'Amount': 85.0, 'Selling Price': 9.03, 'Cost Price': 5.75, 'Profit': 3.28, 'Mark-Up %': 57.04, 'Category': 'CHIPS'} <pymongo.results.InsertOneResult object at 0x000001F3F3DA2508> \n",
      "\n",
      "{'ID': 'I05', 'Product': 'Coke', 'Amount': 50.0, 'Selling Price': 24.54, 'Cost Price': 6.31, 'Profit': 18.23, 'Mark-Up %': 288.91, 'Category': 'COOLDRINKS'} <pymongo.results.InsertOneResult object at 0x000001F3F3DA2508> \n",
      "\n",
      "{'ID': 'D41', 'Product': 'Milkybar', 'Amount': 1.0, 'Selling Price': 29.49, 'Cost Price': 19.32, 'Profit': 10.17, 'Mark-Up %': 52.64, 'Category': 'CHOCOLATES'} <pymongo.results.InsertOneResult object at 0x000001F3F3DA2508> \n",
      "\n",
      "{'ID': 'R85', 'Product': 'Spinach_and_Feta', 'Amount': 53.0, 'Selling Price': 16.97, 'Cost Price': 12.96, 'Profit': 4.01, 'Mark-Up %': 30.94, 'Category': 'PASTRY'} <pymongo.results.InsertOneResult object at 0x000001F3F3DA2508> \n",
      "\n",
      "{'ID': 'N99', 'Product': 'Naartjie', 'Amount': 9.0, 'Selling Price': 10.08, 'Cost Price': 6.56, 'Profit': 3.52, 'Mark-Up %': 53.66, 'Category': 'FRUIT'} <pymongo.results.InsertOneResult object at 0x000001F3F3DA2508> \n",
      "\n",
      "{'ID': 'Z75', 'Product': 'Granadilla', 'Amount': 10.0, 'Selling Price': 21.56, 'Cost Price': 8.18, 'Profit': 13.38, 'Mark-Up %': 163.57, 'Category': 'CUPCAKES'} <pymongo.results.InsertOneResult object at 0x000001F3F3DA2508> \n",
      "\n",
      "{'ID': 'T76', 'Product': 'Brocolli', 'Amount': 68.0, 'Selling Price': 19.49, 'Cost Price': 13.93, 'Profit': 5.56, 'Mark-Up %': 39.91, 'Category': 'VEGGIES'} <pymongo.results.InsertOneResult object at 0x000001F3F3DA2508> \n",
      "\n",
      "{'ID': 'I49', 'Product': 'Twistas', 'Amount': 18.0, 'Selling Price': 27.79, 'Cost Price': 16.85, 'Profit': 10.94, 'Mark-Up %': 64.93, 'Category': 'CHIPS'} <pymongo.results.InsertOneResult object at 0x000001F3F3DA2508> \n",
      "\n",
      "{'ID': 'S14', 'Product': 'Vimto', 'Amount': 94.0, 'Selling Price': 16.51, 'Cost Price': 7.08, 'Profit': 9.43, 'Mark-Up %': 133.19, 'Category': 'COOLDRINKS'} <pymongo.results.InsertOneResult object at 0x000001F3F3DA2508> \n",
      "\n",
      "{'ID': 'Y52', 'Product': 'Kit_Kat', 'Amount': 37.0, 'Selling Price': 14.68, 'Cost Price': 11.27, 'Profit': 3.41, 'Mark-Up %': 30.26, 'Category': 'CHOCOLATES'} <pymongo.results.InsertOneResult object at 0x000001F3F3DA2508> \n",
      "\n",
      "{'ID': 'U62', 'Product': 'Chicken_Curry', 'Amount': 73.0, 'Selling Price': 24.12, 'Cost Price': 5.31, 'Profit': 18.81, 'Mark-Up %': 354.24, 'Category': 'PASTRY'} <pymongo.results.InsertOneResult object at 0x000001F3F3DA2508> \n",
      "\n",
      "{'ID': 'Q54', 'Product': 'Guava', 'Amount': 51.0, 'Selling Price': 25.48, 'Cost Price': 2.58, 'Profit': 22.9, 'Mark-Up %': 887.6, 'Category': 'FRUIT'} <pymongo.results.InsertOneResult object at 0x000001F3F3DA2508> \n",
      "\n",
      "{'ID': 'Z34', 'Product': 'Swissroll', 'Amount': 31.0, 'Selling Price': 18.33, 'Cost Price': 3.04, 'Profit': 15.29, 'Mark-Up %': 502.96, 'Category': 'CUPCAKES'} <pymongo.results.InsertOneResult object at 0x000001F3F3DA2508> \n",
      "\n",
      "{'ID': 'N89', 'Product': 'Squash', 'Amount': 80.0, 'Selling Price': 10.68, 'Cost Price': 3.62, 'Profit': 7.06, 'Mark-Up %': 195.03, 'Category': 'VEGGIES'} <pymongo.results.InsertOneResult object at 0x000001F3F3DA2508> \n",
      "\n",
      "{'ID': 'Q55', 'Product': 'Flings', 'Amount': 42.0, 'Selling Price': 15.17, 'Cost Price': 4.29, 'Profit': 10.88, 'Mark-Up %': 253.61, 'Category': 'CHIPS'} <pymongo.results.InsertOneResult object at 0x000001F3F3DA2508> \n",
      "\n",
      "{'ID': 'C19', 'Product': 'Lemon_Twist', 'Amount': 52.0, 'Selling Price': 23.23, 'Cost Price': 4.17, 'Profit': 19.06, 'Mark-Up %': 457.07, 'Category': 'COOLDRINKS'} <pymongo.results.InsertOneResult object at 0x000001F3F3DA2508> \n",
      "\n",
      "{'ID': 'D75', 'Product': 'PS', 'Amount': 39.0, 'Selling Price': 10.8, 'Cost Price': 6.91, 'Profit': 3.89, 'Mark-Up %': 56.3, 'Category': 'CHOCOLATES'} <pymongo.results.InsertOneResult object at 0x000001F3F3DA2508> \n",
      "\n",
      "{'ID': 'U76', 'Product': 'Steak_and_Kidney', 'Amount': 20.0, 'Selling Price': 29.93, 'Cost Price': 7.35, 'Profit': 22.58, 'Mark-Up %': 307.21, 'Category': 'PASTRY'} <pymongo.results.InsertOneResult object at 0x000001F3F3DA2508> \n",
      "\n",
      "{'ID': 'E28', 'Product': 'Blueberry', 'Amount': 29.0, 'Selling Price': 23.85, 'Cost Price': 17.2, 'Profit': 6.65, 'Mark-Up %': 38.66, 'Category': 'FRUIT'} <pymongo.results.InsertOneResult object at 0x000001F3F3DA2508> \n",
      "\n",
      "{'ID': 'S69', 'Product': 'Mud_cake', 'Amount': 44.0, 'Selling Price': 24.84, 'Cost Price': 18.37, 'Profit': 6.47, 'Mark-Up %': 35.22, 'Category': 'CUPCAKES'} <pymongo.results.InsertOneResult object at 0x000001F3F3DA2508> \n",
      "\n",
      "{'ID': 'T93', 'Product': 'Carrot', 'Amount': 27.0, 'Selling Price': 18.76, 'Cost Price': 6.7, 'Profit': 12.06, 'Mark-Up %': 180.0, 'Category': 'VEGGIES'} <pymongo.results.InsertOneResult object at 0x000001F3F3DA2508> \n",
      "\n",
      "{'ID': 'L14', 'Product': 'Cheese_Naks', 'Amount': 11.0, 'Selling Price': 11.12, 'Cost Price': 3.28, 'Profit': 7.84, 'Mark-Up %': 239.02, 'Category': 'CHIPS'} <pymongo.results.InsertOneResult object at 0x000001F3F3DA2508> \n",
      "\n",
      "{'ID': 'C52', 'Product': 'Fanta', 'Amount': 63.0, 'Selling Price': 20.38, 'Cost Price': 19.26, 'Profit': 1.12, 'Mark-Up %': 5.82, 'Category': 'COOLDRINKS'} <pymongo.results.InsertOneResult object at 0x000001F3F3DA2508> \n",
      "\n",
      "{'ID': 'D03', 'Product': 'Bar_One', 'Amount': 18.0, 'Selling Price': 27.25, 'Cost Price': 10.99, 'Profit': 16.26, 'Mark-Up %': 147.95, 'Category': 'CHOCOLATES'} <pymongo.results.InsertOneResult object at 0x000001F3F3DA2508> \n",
      "\n",
      "{'ID': 'C30', 'Product': 'Sausage_Roll', 'Amount': 81.0, 'Selling Price': 24.78, 'Cost Price': 23.02, 'Profit': 1.76, 'Mark-Up %': 7.65, 'Category': 'PASTRY'} <pymongo.results.InsertOneResult object at 0x000001F3F3DA2508> \n",
      "\n",
      "{'ID': 'E60', 'Product': 'Apple', 'Amount': 9.0, 'Selling Price': 26.29, 'Cost Price': 3.52, 'Profit': 22.77, 'Mark-Up %': 646.88, 'Category': 'FRUIT'} <pymongo.results.InsertOneResult object at 0x000001F3F3DA2508> \n",
      "\n",
      "{'ID': 'T24', 'Product': 'Cheesecake', 'Amount': 77.0, 'Selling Price': 15.1, 'Cost Price': 14.39, 'Profit': 0.71, 'Mark-Up %': 4.93, 'Category': 'CUPCAKES'} <pymongo.results.InsertOneResult object at 0x000001F3F3DA2508> \n",
      "\n",
      "{'ID': 'O64', 'Product': 'Spinach', 'Amount': 14.0, 'Selling Price': 19.37, 'Cost Price': 2.62, 'Profit': 16.75, 'Mark-Up %': 639.31, 'Category': 'VEGGIES'} <pymongo.results.InsertOneResult object at 0x000001F3F3DA2508> \n",
      "\n",
      "{'ID': 'S54', 'Product': 'Flannagans', 'Amount': 48.0, 'Selling Price': 20.44, 'Cost Price': 4.06, 'Profit': 16.38, 'Mark-Up %': 403.45, 'Category': 'CHIPS'} <pymongo.results.InsertOneResult object at 0x000001F3F3DA2508> \n",
      "\n",
      "{'ID': 'S66', 'Product': 'Monster', 'Amount': 67.0, 'Selling Price': 6.5, 'Cost Price': 3.1, 'Profit': 3.4, 'Mark-Up %': 109.68, 'Category': 'COOLDRINKS'} <pymongo.results.InsertOneResult object at 0x000001F3F3DA2508> \n",
      "\n",
      "{'ID': 'B65', 'Product': 'Chomp', 'Amount': 79.0, 'Selling Price': 14.14, 'Cost Price': 5.91, 'Profit': 8.23, 'Mark-Up %': 139.26, 'Category': 'CHOCOLATES'} <pymongo.results.InsertOneResult object at 0x000001F3F3DA2508> \n",
      "\n",
      "{'ID': 'E61', 'Product': 'Russian', 'Amount': 39.0, 'Selling Price': 27.27, 'Cost Price': 24.71, 'Profit': 2.56, 'Mark-Up %': 10.36, 'Category': 'PASTRY'} <pymongo.results.InsertOneResult object at 0x000001F3F3DA2508> \n",
      "\n",
      "{'ID': 'B20', 'Product': 'Orange', 'Amount': 18.0, 'Selling Price': 7.5, 'Cost Price': 5.23, 'Profit': 2.27, 'Mark-Up %': 43.4, 'Category': 'FRUIT'} <pymongo.results.InsertOneResult object at 0x000001F3F3DA2508> \n",
      "\n",
      "{'ID': 'R69', 'Product': 'Milktart', 'Amount': 15.0, 'Selling Price': 20.72, 'Cost Price': 18.98, 'Profit': 1.74, 'Mark-Up %': 9.17, 'Category': 'CUPCAKES'} <pymongo.results.InsertOneResult object at 0x000001F3F3DA2508> \n",
      "\n",
      "{'ID': 'U19', 'Product': 'Butternut', 'Amount': 33.0, 'Selling Price': 19.61, 'Cost Price': 6.23, 'Profit': 13.38, 'Mark-Up %': 214.77, 'Category': 'VEGGIES'} <pymongo.results.InsertOneResult object at 0x000001F3F3DA2508> \n",
      "\n"
     ]
    }
   ],
   "source": [
    "for item in mongoData:\n",
    "    #insert = collection.insert_one(item)\n",
    "    print(item, insert,'\\n')"
   ]
  },
  {
   "cell_type": "code",
   "execution_count": 34,
   "metadata": {},
   "outputs": [],
   "source": [
    "#Clear documents in collection \n",
    "def clearCollection(col):\n",
    "    x = col.delete_many({})\n",
    "    print(x.deleted_count,'documents deleted')"
   ]
  },
  {
   "cell_type": "code",
   "execution_count": 22,
   "metadata": {},
   "outputs": [
    {
     "name": "stdout",
     "output_type": "stream",
     "text": [
      "{'_id': ObjectId('5e957d17492b0732c5bd3671'), 'ID': 'S14', 'Product': 'Vimto', 'Amount': 94.0, 'Selling Price': 16.51, 'Cost Price': 7.08, 'Profit': 9.43, 'Mark-Up %': 133.19, 'Category': 'COOLDRINKS'}\n",
      "{'_id': ObjectId('5e957c42492b0732c5bd363b'), 'ID': 'Q62', 'Product': 'Nik_Naks', 'Amount': 93.0, 'Selling Price': 11.67, 'Cost Price': 11.51, 'Profit': 0.16, 'Mark-Up %': 1.39, 'Category': 'CHIPS'}\n",
      "{'_id': ObjectId('5e957d17492b0732c5bd3665'), 'ID': 'T91', 'Product': 'Score', 'Amount': 93.0, 'Selling Price': 21.79, 'Cost Price': 10.44, 'Profit': 11.35, 'Mark-Up %': 108.72, 'Category': 'COOLDRINKS'}\n",
      "{'_id': ObjectId('5e957d17492b0732c5bd3662'), 'ID': 'K62', 'Product': 'Choc_Log', 'Amount': 90.0, 'Selling Price': 22.24, 'Cost Price': 10.8, 'Profit': 11.44, 'Mark-Up %': 105.93, 'Category': 'CHOCOLATES'}\n",
      "{'_id': ObjectId('5e957c42492b0732c5bd363e'), 'ID': 'F43', 'Product': 'Lays', 'Amount': 86.0, 'Selling Price': 25.22, 'Cost Price': 22.14, 'Profit': 3.08, 'Mark-Up %': 13.91, 'Category': 'CHIPS'}\n",
      "{'_id': ObjectId('5e957d17492b0732c5bd3661'), 'ID': 'U39', 'Product': 'Mountain_Dew', 'Amount': 85.0, 'Selling Price': 3.46, 'Cost Price': 2.86, 'Profit': 0.6, 'Mark-Up %': 20.98, 'Category': 'COOLDRINKS'}\n",
      "{'_id': ObjectId('5e957c42492b0732c5bd364a'), 'ID': 'C05', 'Product': 'Doritos', 'Amount': 85.0, 'Selling Price': 9.03, 'Cost Price': 5.75, 'Profit': 3.28, 'Mark-Up %': 57.04, 'Category': 'CHIPS'}\n",
      "{'_id': ObjectId('5e957d17492b0732c5bd365b'), 'ID': 'Z27', 'Product': 'Pear', 'Amount': 83.0, 'Selling Price': 20.62, 'Cost Price': 13.51, 'Profit': 7.11, 'Mark-Up %': 52.63, 'Category': 'FRUIT'}\n",
      "{'_id': ObjectId('5e957c42492b0732c5bd3654'), 'ID': 'C30', 'Product': 'Sausage_Roll', 'Amount': 81.0, 'Selling Price': 24.78, 'Cost Price': 23.02, 'Profit': 1.76, 'Mark-Up %': 7.65, 'Category': 'PASTRY'}\n",
      "{'_id': ObjectId('5e957c42492b0732c5bd364f'), 'ID': 'N89', 'Product': 'Squash', 'Amount': 80.0, 'Selling Price': 10.68, 'Cost Price': 3.62, 'Profit': 7.06, 'Mark-Up %': 195.03, 'Category': 'VEGGIES'}\n",
      "{'_id': ObjectId('5e957d17492b0732c5bd367e'), 'ID': 'B65', 'Product': 'Chomp', 'Amount': 79.0, 'Selling Price': 14.14, 'Cost Price': 5.91, 'Profit': 8.23, 'Mark-Up %': 139.26, 'Category': 'CHOCOLATES'}\n",
      "{'_id': ObjectId('5e957d17492b0732c5bd367c'), 'ID': 'T24', 'Product': 'Cheesecake', 'Amount': 77.0, 'Selling Price': 15.1, 'Cost Price': 14.39, 'Profit': 0.71, 'Mark-Up %': 4.93, 'Category': 'CUPCAKES'}\n",
      "{'_id': ObjectId('5e957c42492b0732c5bd364e'), 'ID': 'U62', 'Product': 'Chicken_Curry', 'Amount': 73.0, 'Selling Price': 24.12, 'Cost Price': 5.31, 'Profit': 18.81, 'Mark-Up %': 354.24, 'Category': 'PASTRY'}\n",
      "{'_id': ObjectId('5e957c42492b0732c5bd3649'), 'ID': 'L94', 'Product': 'Cabbage', 'Amount': 70.0, 'Selling Price': 23.44, 'Cost Price': 13.34, 'Profit': 10.1, 'Mark-Up %': 75.71, 'Category': 'VEGGIES'}\n",
      "{'_id': ObjectId('5e957c42492b0732c5bd364c'), 'ID': 'T76', 'Product': 'Brocolli', 'Amount': 68.0, 'Selling Price': 19.49, 'Cost Price': 13.93, 'Profit': 5.56, 'Mark-Up %': 39.91, 'Category': 'VEGGIES'}\n",
      "{'_id': ObjectId('5e957d17492b0732c5bd367d'), 'ID': 'S66', 'Product': 'Monster', 'Amount': 67.0, 'Selling Price': 6.5, 'Cost Price': 3.1, 'Profit': 3.4, 'Mark-Up %': 109.68, 'Category': 'COOLDRINKS'}\n",
      "{'_id': ObjectId('5e957d17492b0732c5bd3667'), 'ID': 'O82', 'Product': 'Dates', 'Amount': 64.0, 'Selling Price': 23.64, 'Cost Price': 3.53, 'Profit': 20.11, 'Mark-Up %': 569.69, 'Category': 'FRUIT'}\n",
      "{'_id': ObjectId('5e957d17492b0732c5bd3679'), 'ID': 'C52', 'Product': 'Fanta', 'Amount': 63.0, 'Selling Price': 20.38, 'Cost Price': 19.26, 'Profit': 1.12, 'Mark-Up %': 5.82, 'Category': 'COOLDRINKS'}\n",
      "{'_id': ObjectId('5e957d17492b0732c5bd3666'), 'ID': 'F16', 'Product': 'Tex', 'Amount': 59.0, 'Selling Price': 19.78, 'Cost Price': 5.14, 'Profit': 14.64, 'Mark-Up %': 284.82, 'Category': 'CHOCOLATES'}\n",
      "{'_id': ObjectId('5e957c42492b0732c5bd364b'), 'ID': 'R85', 'Product': 'Spinach_and_Feta', 'Amount': 53.0, 'Selling Price': 16.97, 'Cost Price': 12.96, 'Profit': 4.01, 'Mark-Up %': 30.94, 'Category': 'PASTRY'}\n",
      "{'_id': ObjectId('5e957d17492b0732c5bd3675'), 'ID': 'C19', 'Product': 'Lemon_Twist', 'Amount': 52.0, 'Selling Price': 23.23, 'Cost Price': 4.17, 'Profit': 19.06, 'Mark-Up %': 457.07, 'Category': 'COOLDRINKS'}\n",
      "{'_id': ObjectId('5e957d17492b0732c5bd3673'), 'ID': 'Q54', 'Product': 'Guava', 'Amount': 51.0, 'Selling Price': 25.48, 'Cost Price': 2.58, 'Profit': 22.9, 'Mark-Up %': 887.6, 'Category': 'FRUIT'}\n",
      "{'_id': ObjectId('5e957d17492b0732c5bd366d'), 'ID': 'I05', 'Product': 'Coke', 'Amount': 50.0, 'Selling Price': 24.54, 'Cost Price': 6.31, 'Profit': 18.23, 'Mark-Up %': 288.91, 'Category': 'COOLDRINKS'}\n",
      "{'_id': ObjectId('5e957d17492b0732c5bd3663'), 'ID': 'N64', 'Product': 'Pineapple', 'Amount': 49.0, 'Selling Price': 25.6, 'Cost Price': 15.77, 'Profit': 9.83, 'Mark-Up %': 62.33, 'Category': 'FRUIT'}\n",
      "{'_id': ObjectId('5e957c42492b0732c5bd3656'), 'ID': 'S54', 'Product': 'Flannagans', 'Amount': 48.0, 'Selling Price': 20.44, 'Cost Price': 4.06, 'Profit': 16.38, 'Mark-Up %': 403.45, 'Category': 'CHIPS'}\n",
      "{'_id': ObjectId('5e957d17492b0732c5bd3659'), 'ID': 'N67', 'Product': 'Twizza', 'Amount': 46.0, 'Selling Price': 24.09, 'Cost Price': 9.99, 'Profit': 14.1, 'Mark-Up %': 141.14, 'Category': 'COOLDRINKS'}\n",
      "{'_id': ObjectId('5e957d17492b0732c5bd365d'), 'ID': 'N20', 'Product': '7_Star', 'Amount': 46.0, 'Selling Price': 26.92, 'Cost Price': 24.08, 'Profit': 2.84, 'Mark-Up %': 11.79, 'Category': 'COOLDRINKS'}\n",
      "{'_id': ObjectId('5e957c42492b0732c5bd3644'), 'ID': 'W72', 'Product': 'Fritos', 'Amount': 45.0, 'Selling Price': 15.99, 'Cost Price': 5.78, 'Profit': 10.21, 'Mark-Up %': 176.64, 'Category': 'CHIPS'}\n",
      "{'_id': ObjectId('5e957d17492b0732c5bd3678'), 'ID': 'S69', 'Product': 'Mud_cake', 'Amount': 44.0, 'Selling Price': 24.84, 'Cost Price': 18.37, 'Profit': 6.47, 'Mark-Up %': 35.22, 'Category': 'CUPCAKES'}\n",
      "{'_id': ObjectId('5e957c42492b0732c5bd3650'), 'ID': 'Q55', 'Product': 'Flings', 'Amount': 42.0, 'Selling Price': 15.17, 'Cost Price': 4.29, 'Profit': 10.88, 'Mark-Up %': 253.61, 'Category': 'CHIPS'}\n",
      "{'_id': ObjectId('5e957d17492b0732c5bd365e'), 'ID': 'T09', 'Product': '5_Star', 'Amount': 40.0, 'Selling Price': 22.78, 'Cost Price': 5.88, 'Profit': 16.9, 'Mark-Up %': 287.41, 'Category': 'CHOCOLATES'}\n",
      "{'_id': ObjectId('5e957c42492b0732c5bd3641'), 'ID': 'V68', 'Product': 'Simba', 'Amount': 40.0, 'Selling Price': 8.93, 'Cost Price': 4.24, 'Profit': 4.69, 'Mark-Up %': 110.61, 'Category': 'CHIPS'}\n",
      "{'_id': ObjectId('5e957d17492b0732c5bd3676'), 'ID': 'D75', 'Product': 'PS', 'Amount': 39.0, 'Selling Price': 10.8, 'Cost Price': 6.91, 'Profit': 3.89, 'Mark-Up %': 56.3, 'Category': 'CHOCOLATES'}\n",
      "{'_id': ObjectId('5e957c42492b0732c5bd3657'), 'ID': 'E61', 'Product': 'Russian', 'Amount': 39.0, 'Selling Price': 27.27, 'Cost Price': 24.71, 'Profit': 2.56, 'Mark-Up %': 10.36, 'Category': 'PASTRY'}\n",
      "{'_id': ObjectId('5e957d17492b0732c5bd3672'), 'ID': 'Y52', 'Product': 'Kit_Kat', 'Amount': 37.0, 'Selling Price': 14.68, 'Cost Price': 11.27, 'Profit': 3.41, 'Mark-Up %': 30.26, 'Category': 'CHOCOLATES'}\n",
      "{'_id': ObjectId('5e957c42492b0732c5bd3646'), 'ID': 'X80', 'Product': 'Spinach', 'Amount': 36.0, 'Selling Price': 24.16, 'Cost Price': 2.54, 'Profit': 21.62, 'Mark-Up %': 851.18, 'Category': 'VEGGIES'}\n",
      "{'_id': ObjectId('5e957c42492b0732c5bd3647'), 'ID': 'L92', 'Product': 'Bigga_Naks', 'Amount': 35.0, 'Selling Price': 24.78, 'Cost Price': 12.6, 'Profit': 12.18, 'Mark-Up %': 96.67, 'Category': 'CHIPS'}\n",
      "{'_id': ObjectId('5e957c42492b0732c5bd3648'), 'ID': 'G15', 'Product': 'Burger_pie', 'Amount': 35.0, 'Selling Price': 5.75, 'Cost Price': 3.4, 'Profit': 2.35, 'Mark-Up %': 69.12, 'Category': 'PASTRY'}\n",
      "{'_id': ObjectId('5e957c42492b0732c5bd363f'), 'ID': 'F90', 'Product': 'Plain_Steak', 'Amount': 34.0, 'Selling Price': 2.7, 'Cost Price': 2.0, 'Profit': 0.7, 'Mark-Up %': 35.0, 'Category': 'PASTRY'}\n",
      "{'_id': ObjectId('5e957d17492b0732c5bd3669'), 'ID': 'Z43', 'Product': 'Sprite', 'Amount': 34.0, 'Selling Price': 28.11, 'Cost Price': 7.46, 'Profit': 20.65, 'Mark-Up %': 276.81, 'Category': 'COOLDRINKS'}\n",
      "{'_id': ObjectId('5e957d17492b0732c5bd3668'), 'ID': 'T27', 'Product': 'Blueberry', 'Amount': 33.0, 'Selling Price': 17.87, 'Cost Price': 3.41, 'Profit': 14.46, 'Mark-Up %': 424.05, 'Category': 'CUPCAKES'}\n",
      "{'_id': ObjectId('5e957c42492b0732c5bd3658'), 'ID': 'U19', 'Product': 'Butternut', 'Amount': 33.0, 'Selling Price': 19.61, 'Cost Price': 6.23, 'Profit': 13.38, 'Mark-Up %': 214.77, 'Category': 'VEGGIES'}\n",
      "{'_id': ObjectId('5e957c42492b0732c5bd3642'), 'ID': 'O74', 'Product': 'Chicken', 'Amount': 32.0, 'Selling Price': 22.21, 'Cost Price': 17.08, 'Profit': 5.13, 'Mark-Up %': 30.04, 'Category': 'PASTRY'}\n",
      "{'_id': ObjectId('5e957d17492b0732c5bd3674'), 'ID': 'Z34', 'Product': 'Swissroll', 'Amount': 31.0, 'Selling Price': 18.33, 'Cost Price': 3.04, 'Profit': 15.29, 'Mark-Up %': 502.96, 'Category': 'CUPCAKES'}\n",
      "{'_id': ObjectId('5e957d17492b0732c5bd3660'), 'ID': 'K77', 'Product': 'Vanilla', 'Amount': 29.0, 'Selling Price': 9.77, 'Cost Price': 5.09, 'Profit': 4.68, 'Mark-Up %': 91.94, 'Category': 'CUPCAKES'}\n",
      "{'_id': ObjectId('5e957d17492b0732c5bd3677'), 'ID': 'E28', 'Product': 'Blueberry', 'Amount': 29.0, 'Selling Price': 23.85, 'Cost Price': 17.2, 'Profit': 6.65, 'Mark-Up %': 38.66, 'Category': 'FRUIT'}\n",
      "{'_id': ObjectId('5e957d17492b0732c5bd365f'), 'ID': 'Q12', 'Product': 'Kiwi', 'Amount': 27.0, 'Selling Price': 20.25, 'Cost Price': 4.85, 'Profit': 15.4, 'Mark-Up %': 317.53, 'Category': 'FRUIT'}\n",
      "{'_id': ObjectId('5e957c42492b0732c5bd3652'), 'ID': 'T93', 'Product': 'Carrot', 'Amount': 27.0, 'Selling Price': 18.76, 'Cost Price': 6.7, 'Profit': 12.06, 'Mark-Up %': 180.0, 'Category': 'VEGGIES'}\n",
      "{'_id': ObjectId('5e957c42492b0732c5bd3645'), 'ID': 'P78', 'Product': 'Mutton_Curry', 'Amount': 25.0, 'Selling Price': 24.62, 'Cost Price': 5.59, 'Profit': 19.03, 'Mark-Up %': 340.43, 'Category': 'PASTRY'}\n",
      "{'_id': ObjectId('5e957c42492b0732c5bd3651'), 'ID': 'U76', 'Product': 'Steak_and_Kidney', 'Amount': 20.0, 'Selling Price': 29.93, 'Cost Price': 7.35, 'Profit': 22.58, 'Mark-Up %': 307.21, 'Category': 'PASTRY'}\n",
      "{'_id': ObjectId('5e957c42492b0732c5bd364d'), 'ID': 'I49', 'Product': 'Twistas', 'Amount': 18.0, 'Selling Price': 27.79, 'Cost Price': 16.85, 'Profit': 10.94, 'Mark-Up %': 64.93, 'Category': 'CHIPS'}\n",
      "{'_id': ObjectId('5e957d17492b0732c5bd367a'), 'ID': 'D03', 'Product': 'Bar_One', 'Amount': 18.0, 'Selling Price': 27.25, 'Cost Price': 10.99, 'Profit': 16.26, 'Mark-Up %': 147.95, 'Category': 'CHOCOLATES'}\n",
      "{'_id': ObjectId('5e957d17492b0732c5bd367f'), 'ID': 'B20', 'Product': 'Orange', 'Amount': 18.0, 'Selling Price': 7.5, 'Cost Price': 5.23, 'Profit': 2.27, 'Mark-Up %': 43.4, 'Category': 'FRUIT'}\n",
      "{'_id': ObjectId('5e957d17492b0732c5bd3680'), 'ID': 'R69', 'Product': 'Milktart', 'Amount': 15.0, 'Selling Price': 20.72, 'Cost Price': 18.98, 'Profit': 1.74, 'Mark-Up %': 9.17, 'Category': 'CUPCAKES'}\n",
      "{'_id': ObjectId('5e957d17492b0732c5bd365c'), 'ID': 'E56', 'Product': 'ChocChip', 'Amount': 14.0, 'Selling Price': 20.97, 'Cost Price': 16.85, 'Profit': 4.12, 'Mark-Up %': 24.45, 'Category': 'CUPCAKES'}\n",
      "{'_id': ObjectId('5e957c42492b0732c5bd3643'), 'ID': 'X31', 'Product': 'Potato', 'Amount': 14.0, 'Selling Price': 14.02, 'Cost Price': 11.45, 'Profit': 2.57, 'Mark-Up %': 22.45, 'Category': 'VEGGIES'}\n",
      "{'_id': ObjectId('5e957c42492b0732c5bd3655'), 'ID': 'O64', 'Product': 'Spinach', 'Amount': 14.0, 'Selling Price': 19.37, 'Cost Price': 2.62, 'Profit': 16.75, 'Mark-Up %': 639.31, 'Category': 'VEGGIES'}\n",
      "{'_id': ObjectId('5e957d17492b0732c5bd365a'), 'ID': 'H69', 'Product': 'Peppermint', 'Amount': 13.0, 'Selling Price': 28.7, 'Cost Price': 18.83, 'Profit': 9.87, 'Mark-Up %': 52.42, 'Category': 'CHOCOLATES'}\n",
      "{'_id': ObjectId('5e957d17492b0732c5bd366c'), 'ID': 'A97', 'Product': 'Red_Velvet', 'Amount': 13.0, 'Selling Price': 25.73, 'Cost Price': 7.68, 'Profit': 18.05, 'Mark-Up %': 235.03, 'Category': 'CUPCAKES'}\n",
      "{'_id': ObjectId('5e957c42492b0732c5bd363d'), 'ID': 'O95', 'Product': 'Cucumber', 'Amount': 12.0, 'Selling Price': 18.34, 'Cost Price': 12.31, 'Profit': 6.03, 'Mark-Up %': 48.98, 'Category': 'VEGGIES'}\n",
      "{'_id': ObjectId('5e957d17492b0732c5bd366a'), 'ID': 'H57', 'Product': 'Crunchie', 'Amount': 11.0, 'Selling Price': 14.31, 'Cost Price': 13.33, 'Profit': 0.98, 'Mark-Up %': 7.35, 'Category': 'CHOCOLATES'}\n",
      "{'_id': ObjectId('5e957c42492b0732c5bd3653'), 'ID': 'L14', 'Product': 'Cheese_Naks', 'Amount': 11.0, 'Selling Price': 11.12, 'Cost Price': 3.28, 'Profit': 7.84, 'Mark-Up %': 239.02, 'Category': 'CHIPS'}\n",
      "{'_id': ObjectId('5e957d17492b0732c5bd3670'), 'ID': 'Z75', 'Product': 'Granadilla', 'Amount': 10.0, 'Selling Price': 21.56, 'Cost Price': 8.18, 'Profit': 13.38, 'Mark-Up %': 163.57, 'Category': 'CUPCAKES'}\n",
      "{'_id': ObjectId('5e957d17492b0732c5bd366f'), 'ID': 'N99', 'Product': 'Naartjie', 'Amount': 9.0, 'Selling Price': 10.08, 'Cost Price': 6.56, 'Profit': 3.52, 'Mark-Up %': 53.66, 'Category': 'FRUIT'}\n",
      "{'_id': ObjectId('5e957d17492b0732c5bd367b'), 'ID': 'E60', 'Product': 'Apple', 'Amount': 9.0, 'Selling Price': 26.29, 'Cost Price': 3.52, 'Profit': 22.77, 'Mark-Up %': 646.88, 'Category': 'FRUIT'}\n",
      "{'_id': ObjectId('5e957c42492b0732c5bd363c'), 'ID': 'C70', 'Product': 'Pepper_Steak', 'Amount': 8.0, 'Selling Price': 12.31, 'Cost Price': 5.23, 'Profit': 7.08, 'Mark-Up %': 135.37, 'Category': 'PASTRY'}\n",
      "{'_id': ObjectId('5e957d17492b0732c5bd3664'), 'ID': 'V95', 'Product': 'Banana', 'Amount': 8.0, 'Selling Price': 5.06, 'Cost Price': 3.25, 'Profit': 1.81, 'Mark-Up %': 55.69, 'Category': 'CUPCAKES'}\n",
      "{'_id': ObjectId('5e957d17492b0732c5bd366b'), 'ID': 'W39', 'Product': 'Grapes', 'Amount': 7.0, 'Selling Price': 26.35, 'Cost Price': 24.69, 'Profit': 1.66, 'Mark-Up %': 6.72, 'Category': 'FRUIT'}\n",
      "{'_id': ObjectId('5e957c42492b0732c5bd3640'), 'ID': 'W17', 'Product': 'Eggplant', 'Amount': 3.0, 'Selling Price': 21.35, 'Cost Price': 3.67, 'Profit': 17.68, 'Mark-Up %': 481.74, 'Category': 'VEGGIES'}\n",
      "{'_id': ObjectId('5e957d17492b0732c5bd366e'), 'ID': 'D41', 'Product': 'Milkybar', 'Amount': 1.0, 'Selling Price': 29.49, 'Cost Price': 19.32, 'Profit': 10.17, 'Mark-Up %': 52.64, 'Category': 'CHOCOLATES'}\n"
     ]
    }
   ],
   "source": [
    "for info in collection.find().sort('Amount',-1):\n",
    "    print(info)"
   ]
  },
  {
   "cell_type": "code",
   "execution_count": 23,
   "metadata": {},
   "outputs": [
    {
     "name": "stdout",
     "output_type": "stream",
     "text": [
      "{'_id': ObjectId('5e957d17492b0732c5bd3662'), 'ID': 'K62', 'Product': 'Choc_Log', 'Amount': 90.0, 'Selling Price': 22.24, 'Cost Price': 10.8, 'Profit': 11.44, 'Mark-Up %': 105.93, 'Category': 'CHOCOLATES'}\n",
      "{'_id': ObjectId('5e957d17492b0732c5bd367e'), 'ID': 'B65', 'Product': 'Chomp', 'Amount': 79.0, 'Selling Price': 14.14, 'Cost Price': 5.91, 'Profit': 8.23, 'Mark-Up %': 139.26, 'Category': 'CHOCOLATES'}\n",
      "{'_id': ObjectId('5e957d17492b0732c5bd3666'), 'ID': 'F16', 'Product': 'Tex', 'Amount': 59.0, 'Selling Price': 19.78, 'Cost Price': 5.14, 'Profit': 14.64, 'Mark-Up %': 284.82, 'Category': 'CHOCOLATES'}\n",
      "{'_id': ObjectId('5e957d17492b0732c5bd365e'), 'ID': 'T09', 'Product': '5_Star', 'Amount': 40.0, 'Selling Price': 22.78, 'Cost Price': 5.88, 'Profit': 16.9, 'Mark-Up %': 287.41, 'Category': 'CHOCOLATES'}\n",
      "{'_id': ObjectId('5e957d17492b0732c5bd3676'), 'ID': 'D75', 'Product': 'PS', 'Amount': 39.0, 'Selling Price': 10.8, 'Cost Price': 6.91, 'Profit': 3.89, 'Mark-Up %': 56.3, 'Category': 'CHOCOLATES'}\n",
      "{'_id': ObjectId('5e957d17492b0732c5bd3672'), 'ID': 'Y52', 'Product': 'Kit_Kat', 'Amount': 37.0, 'Selling Price': 14.68, 'Cost Price': 11.27, 'Profit': 3.41, 'Mark-Up %': 30.26, 'Category': 'CHOCOLATES'}\n",
      "{'_id': ObjectId('5e957d17492b0732c5bd367a'), 'ID': 'D03', 'Product': 'Bar_One', 'Amount': 18.0, 'Selling Price': 27.25, 'Cost Price': 10.99, 'Profit': 16.26, 'Mark-Up %': 147.95, 'Category': 'CHOCOLATES'}\n",
      "{'_id': ObjectId('5e957d17492b0732c5bd365a'), 'ID': 'H69', 'Product': 'Peppermint', 'Amount': 13.0, 'Selling Price': 28.7, 'Cost Price': 18.83, 'Profit': 9.87, 'Mark-Up %': 52.42, 'Category': 'CHOCOLATES'}\n",
      "{'_id': ObjectId('5e957d17492b0732c5bd366a'), 'ID': 'H57', 'Product': 'Crunchie', 'Amount': 11.0, 'Selling Price': 14.31, 'Cost Price': 13.33, 'Profit': 0.98, 'Mark-Up %': 7.35, 'Category': 'CHOCOLATES'}\n",
      "{'_id': ObjectId('5e957d17492b0732c5bd366e'), 'ID': 'D41', 'Product': 'Milkybar', 'Amount': 1.0, 'Selling Price': 29.49, 'Cost Price': 19.32, 'Profit': 10.17, 'Mark-Up %': 52.64, 'Category': 'CHOCOLATES'}\n"
     ]
    }
   ],
   "source": [
    "#Filtering to display a specific category\n",
    "searchQuery = {'Category':{'$regex':'CHOCOLATES'}}\n",
    "chocData = collection.find(searchQuery).sort('Amount',-1)\n",
    "for choc in chocData:\n",
    "    print(choc)\n"
   ]
  },
  {
   "cell_type": "code",
   "execution_count": 37,
   "metadata": {},
   "outputs": [
    {
     "name": "stdout",
     "output_type": "stream",
     "text": [
      "Collection(Database(MongoClient(host=['localhost:27017'], document_class=dict, tz_aware=False, connect=True), 'Data_Tracker'), 'Top 3')\n"
     ]
    }
   ],
   "source": [
    "#Create collection of top 3 categories\n",
    "topCollec = myDb['Top 3']\n",
    "print(topCollec)\n",
    "for stuff in mongoData:\n",
    "    if stuff['Category'] in top3cats:\n",
    "        some=0\n",
    "        #insert = topCollec.insert_one(stuff)"
   ]
  },
  {
   "cell_type": "code",
   "execution_count": 38,
   "metadata": {},
   "outputs": [
    {
     "name": "stdout",
     "output_type": "stream",
     "text": [
      "{'_id': ObjectId('5e957c42492b0732c5bd3640'), 'ID': 'W17', 'Product': 'Eggplant', 'Amount': 3.0, 'Selling Price': 21.35, 'Cost Price': 3.67, 'Profit': 17.68, 'Mark-Up %': 481.74, 'Category': 'VEGGIES'}\n",
      "{'_id': ObjectId('5e957c42492b0732c5bd363c'), 'ID': 'C70', 'Product': 'Pepper_Steak', 'Amount': 8.0, 'Selling Price': 12.31, 'Cost Price': 5.23, 'Profit': 7.08, 'Mark-Up %': 135.37, 'Category': 'PASTRY'}\n",
      "{'_id': ObjectId('5e957c42492b0732c5bd3653'), 'ID': 'L14', 'Product': 'Cheese_Naks', 'Amount': 11.0, 'Selling Price': 11.12, 'Cost Price': 3.28, 'Profit': 7.84, 'Mark-Up %': 239.02, 'Category': 'CHIPS'}\n",
      "{'_id': ObjectId('5e957c42492b0732c5bd363d'), 'ID': 'O95', 'Product': 'Cucumber', 'Amount': 12.0, 'Selling Price': 18.34, 'Cost Price': 12.31, 'Profit': 6.03, 'Mark-Up %': 48.98, 'Category': 'VEGGIES'}\n",
      "{'_id': ObjectId('5e957c42492b0732c5bd3643'), 'ID': 'X31', 'Product': 'Potato', 'Amount': 14.0, 'Selling Price': 14.02, 'Cost Price': 11.45, 'Profit': 2.57, 'Mark-Up %': 22.45, 'Category': 'VEGGIES'}\n",
      "{'_id': ObjectId('5e957c42492b0732c5bd3655'), 'ID': 'O64', 'Product': 'Spinach', 'Amount': 14.0, 'Selling Price': 19.37, 'Cost Price': 2.62, 'Profit': 16.75, 'Mark-Up %': 639.31, 'Category': 'VEGGIES'}\n",
      "{'_id': ObjectId('5e957c42492b0732c5bd3651'), 'ID': 'U76', 'Product': 'Steak_and_Kidney', 'Amount': 20.0, 'Selling Price': 29.93, 'Cost Price': 7.35, 'Profit': 22.58, 'Mark-Up %': 307.21, 'Category': 'PASTRY'}\n",
      "{'_id': ObjectId('5e957c42492b0732c5bd3652'), 'ID': 'T93', 'Product': 'Carrot', 'Amount': 27.0, 'Selling Price': 18.76, 'Cost Price': 6.7, 'Profit': 12.06, 'Mark-Up %': 180.0, 'Category': 'VEGGIES'}\n",
      "{'_id': ObjectId('5e957c42492b0732c5bd3642'), 'ID': 'O74', 'Product': 'Chicken', 'Amount': 32.0, 'Selling Price': 22.21, 'Cost Price': 17.08, 'Profit': 5.13, 'Mark-Up %': 30.04, 'Category': 'PASTRY'}\n",
      "{'_id': ObjectId('5e957c42492b0732c5bd3658'), 'ID': 'U19', 'Product': 'Butternut', 'Amount': 33.0, 'Selling Price': 19.61, 'Cost Price': 6.23, 'Profit': 13.38, 'Mark-Up %': 214.77, 'Category': 'VEGGIES'}\n",
      "{'_id': ObjectId('5e957c42492b0732c5bd363f'), 'ID': 'F90', 'Product': 'Plain_Steak', 'Amount': 34.0, 'Selling Price': 2.7, 'Cost Price': 2.0, 'Profit': 0.7, 'Mark-Up %': 35.0, 'Category': 'PASTRY'}\n",
      "{'_id': ObjectId('5e957c42492b0732c5bd3647'), 'ID': 'L92', 'Product': 'Bigga_Naks', 'Amount': 35.0, 'Selling Price': 24.78, 'Cost Price': 12.6, 'Profit': 12.18, 'Mark-Up %': 96.67, 'Category': 'CHIPS'}\n",
      "{'_id': ObjectId('5e957c42492b0732c5bd3648'), 'ID': 'G15', 'Product': 'Burger_pie', 'Amount': 35.0, 'Selling Price': 5.75, 'Cost Price': 3.4, 'Profit': 2.35, 'Mark-Up %': 69.12, 'Category': 'PASTRY'}\n",
      "{'_id': ObjectId('5e957c42492b0732c5bd3646'), 'ID': 'X80', 'Product': 'Spinach', 'Amount': 36.0, 'Selling Price': 24.16, 'Cost Price': 2.54, 'Profit': 21.62, 'Mark-Up %': 851.18, 'Category': 'VEGGIES'}\n",
      "{'_id': ObjectId('5e957c42492b0732c5bd3657'), 'ID': 'E61', 'Product': 'Russian', 'Amount': 39.0, 'Selling Price': 27.27, 'Cost Price': 24.71, 'Profit': 2.56, 'Mark-Up %': 10.36, 'Category': 'PASTRY'}\n",
      "{'_id': ObjectId('5e957c42492b0732c5bd3641'), 'ID': 'V68', 'Product': 'Simba', 'Amount': 40.0, 'Selling Price': 8.93, 'Cost Price': 4.24, 'Profit': 4.69, 'Mark-Up %': 110.61, 'Category': 'CHIPS'}\n",
      "{'_id': ObjectId('5e957c42492b0732c5bd3650'), 'ID': 'Q55', 'Product': 'Flings', 'Amount': 42.0, 'Selling Price': 15.17, 'Cost Price': 4.29, 'Profit': 10.88, 'Mark-Up %': 253.61, 'Category': 'CHIPS'}\n",
      "{'_id': ObjectId('5e957c42492b0732c5bd3644'), 'ID': 'W72', 'Product': 'Fritos', 'Amount': 45.0, 'Selling Price': 15.99, 'Cost Price': 5.78, 'Profit': 10.21, 'Mark-Up %': 176.64, 'Category': 'CHIPS'}\n",
      "{'_id': ObjectId('5e957c42492b0732c5bd3656'), 'ID': 'S54', 'Product': 'Flannagans', 'Amount': 48.0, 'Selling Price': 20.44, 'Cost Price': 4.06, 'Profit': 16.38, 'Mark-Up %': 403.45, 'Category': 'CHIPS'}\n",
      "{'_id': ObjectId('5e957c42492b0732c5bd364b'), 'ID': 'R85', 'Product': 'Spinach_and_Feta', 'Amount': 53.0, 'Selling Price': 16.97, 'Cost Price': 12.96, 'Profit': 4.01, 'Mark-Up %': 30.94, 'Category': 'PASTRY'}\n",
      "{'_id': ObjectId('5e957c42492b0732c5bd364c'), 'ID': 'T76', 'Product': 'Brocolli', 'Amount': 68.0, 'Selling Price': 19.49, 'Cost Price': 13.93, 'Profit': 5.56, 'Mark-Up %': 39.91, 'Category': 'VEGGIES'}\n",
      "{'_id': ObjectId('5e957c42492b0732c5bd3649'), 'ID': 'L94', 'Product': 'Cabbage', 'Amount': 70.0, 'Selling Price': 23.44, 'Cost Price': 13.34, 'Profit': 10.1, 'Mark-Up %': 75.71, 'Category': 'VEGGIES'}\n",
      "{'_id': ObjectId('5e957c42492b0732c5bd364e'), 'ID': 'U62', 'Product': 'Chicken_Curry', 'Amount': 73.0, 'Selling Price': 24.12, 'Cost Price': 5.31, 'Profit': 18.81, 'Mark-Up %': 354.24, 'Category': 'PASTRY'}\n",
      "{'_id': ObjectId('5e957c42492b0732c5bd3654'), 'ID': 'C30', 'Product': 'Sausage_Roll', 'Amount': 81.0, 'Selling Price': 24.78, 'Cost Price': 23.02, 'Profit': 1.76, 'Mark-Up %': 7.65, 'Category': 'PASTRY'}\n",
      "{'_id': ObjectId('5e957c42492b0732c5bd364a'), 'ID': 'C05', 'Product': 'Doritos', 'Amount': 85.0, 'Selling Price': 9.03, 'Cost Price': 5.75, 'Profit': 3.28, 'Mark-Up %': 57.04, 'Category': 'CHIPS'}\n",
      "{'_id': ObjectId('5e957c42492b0732c5bd363e'), 'ID': 'F43', 'Product': 'Lays', 'Amount': 86.0, 'Selling Price': 25.22, 'Cost Price': 22.14, 'Profit': 3.08, 'Mark-Up %': 13.91, 'Category': 'CHIPS'}\n",
      "{'_id': ObjectId('5e957c42492b0732c5bd363b'), 'ID': 'Q62', 'Product': 'Nik_Naks', 'Amount': 93.0, 'Selling Price': 11.67, 'Cost Price': 11.51, 'Profit': 0.16, 'Mark-Up %': 1.39, 'Category': 'CHIPS'}\n"
     ]
    }
   ],
   "source": [
    "top3data = topCollec.find().sort('Amount',1)\n",
    "for d in top3data:\n",
    "    print(d)"
   ]
  },
  {
   "cell_type": "code",
   "execution_count": 33,
   "metadata": {},
   "outputs": [
    {
     "name": "stdout",
     "output_type": "stream",
     "text": [
      "Collection(Database(MongoClient(host=['localhost:27017'], document_class=dict, tz_aware=False, connect=True), 'Data_Tracker'), 'Top 3.deleted_count') items delted at the end\n"
     ]
    }
   ],
   "source": [
    "#Deleting entries from top 3\n",
    "itemsToDel = ['Mutton_Curry','Squash', 'Twista']\n",
    "for x in itemsToDel:\n",
    "    del_query = {'Product':{'$regex': x}}\n",
    "    deletedItems = topCollec.delete_many(del_query)\n",
    "    print(deletedItems.deleted_count,'items delted')\n"
   ]
  },
  {
   "cell_type": "code",
   "execution_count": 43,
   "metadata": {},
   "outputs": [
    {
     "name": "stdout",
     "output_type": "stream",
     "text": [
      "acknowledged: True\n",
      "number of docs updated: 1\n",
      "raw_result: {'n': 1, 'nModified': 1, 'ok': 1.0, 'updatedExisting': True}\n"
     ]
    }
   ],
   "source": [
    "#Product to find an update\n",
    "#object id of item to update :{'_id': ObjectId('5e957c42492b0732c5bd3644')}\n",
    "result = collection.update_many({'Product': 'Fritos'},\n",
    "                                {'$inc': {'Amount': 3}}, upsert=True)\n",
    "\n",
    "# boolean confirmation that the API call went through\n",
    "print (\"acknowledged:\", result.acknowledged)\n",
    "\n",
    "# integer of the number of docs modified\n",
    "print (\"number of docs updated:\", result.modified_count)\n",
    "\n",
    "# dict object with more info on API call\n",
    "print (\"raw_result:\", result.raw_result)"
   ]
  },
  {
   "cell_type": "code",
   "execution_count": 48,
   "metadata": {},
   "outputs": [
    {
     "name": "stdout",
     "output_type": "stream",
     "text": [
      "{'_id': ObjectId('5e957c42492b0732c5bd363c'), 'ID': 'C70', 'Product': 'Pepper_Steak', 'Amount': 8.0, 'Selling Price': 12.31, 'Cost Price': 5.23, 'Profit': 7.08, 'Mark-Up %': 135.37, 'Category': 'PASTRY'}\n",
      "{'_id': ObjectId('5e957c42492b0732c5bd3640'), 'ID': 'W17', 'Product': 'Eggplant', 'Amount': 3.0, 'Selling Price': 21.35, 'Cost Price': 3.67, 'Profit': 17.68, 'Mark-Up %': 481.74, 'Category': 'VEGGIES'}\n",
      "{'_id': ObjectId('5e957d17492b0732c5bd3664'), 'ID': 'V95', 'Product': 'Banana', 'Amount': 8.0, 'Selling Price': 5.06, 'Cost Price': 3.25, 'Profit': 1.81, 'Mark-Up %': 55.69, 'Category': 'CUPCAKES'}\n",
      "{'_id': ObjectId('5e957d17492b0732c5bd366b'), 'ID': 'W39', 'Product': 'Grapes', 'Amount': 7.0, 'Selling Price': 26.35, 'Cost Price': 24.69, 'Profit': 1.66, 'Mark-Up %': 6.72, 'Category': 'FRUIT'}\n",
      "{'_id': ObjectId('5e957d17492b0732c5bd366e'), 'ID': 'D41', 'Product': 'Milkybar', 'Amount': 1.0, 'Selling Price': 29.49, 'Cost Price': 19.32, 'Profit': 10.17, 'Mark-Up %': 52.64, 'Category': 'CHOCOLATES'}\n",
      "{'_id': ObjectId('5e957d17492b0732c5bd366f'), 'ID': 'N99', 'Product': 'Naartjie', 'Amount': 9.0, 'Selling Price': 10.08, 'Cost Price': 6.56, 'Profit': 3.52, 'Mark-Up %': 53.66, 'Category': 'FRUIT'}\n",
      "{'_id': ObjectId('5e957d17492b0732c5bd367b'), 'ID': 'E60', 'Product': 'Apple', 'Amount': 9.0, 'Selling Price': 26.29, 'Cost Price': 3.52, 'Profit': 22.77, 'Mark-Up %': 646.88, 'Category': 'FRUIT'}\n"
     ]
    }
   ],
   "source": [
    "#Search and filter for the least 5 items \n",
    "\n",
    "bottom3 = collection.find()\n",
    "count=0\n",
    "while count<3:\n",
    "    for b in bottom3:\n",
    "        if (b['Amount']<10):\n",
    "            print(b)\n",
    "            count+=1\n",
    "        else:\n",
    "            continue\n",
    "        "
   ]
  }
 ],
 "metadata": {
  "kernelspec": {
   "display_name": "Python 3",
   "language": "python",
   "name": "python3"
  },
  "language_info": {
   "codemirror_mode": {
    "name": "ipython",
    "version": 3
   },
   "file_extension": ".py",
   "mimetype": "text/x-python",
   "name": "python",
   "nbconvert_exporter": "python",
   "pygments_lexer": "ipython3",
   "version": "3.7.4"
  }
 },
 "nbformat": 4,
 "nbformat_minor": 2
}
